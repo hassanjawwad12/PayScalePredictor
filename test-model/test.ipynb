{
 "cells": [
  {
   "cell_type": "code",
   "execution_count": 498,
   "metadata": {},
   "outputs": [],
   "source": [
    "from joblib import load\n",
    "import pandas as pd\n",
    "import numpy as np\n",
    "import seaborn as sns\n",
    "import matplotlib.pyplot as plt\n",
    "\n",
    "# Load the model from the file\n",
    "model = load('Model.joblib')"
   ]
  },
  {
   "cell_type": "code",
   "execution_count": 499,
   "metadata": {},
   "outputs": [],
   "source": [
    "features = [\"age\", \"hours-per-week\", \"workclass_Federal-gov\", \"workclass_Local-gov\",\n",
    "            \"workclass_Private\", \"workclass_Self-emp-inc\", \"workclass_Self-emp-not-inc\", \"workclass_State-gov\", \"workclass_Without-pay\",\n",
    "            \"education_10th\", \"education_11th\", \"education_12th\", \"education_1st-4th\", \"education_5th-6th\", \"education_7th-8th\", \"education_9th\",\n",
    "            \"education_Assoc-acdm\", \"education_Assoc-voc\", \"education_Bachelors\", \"education_Doctorate\", \"education_HS-grad\", \"education_Masters\",\n",
    "            \"education_Preschool\", \"education_Prof-school\", \"education_Some-college\", \"occupation_Adm-clerical\", \"occupation_Armed-Forces\",\n",
    "            \"occupation_Craft-repair\", \"occupation_Exec-managerial\", \"occupation_Farming-fishing\", \"occupation_Handlers-cleaners\",\n",
    "            \"occupation_Machine-op-inspct\", \"occupation_Other-service\", \"occupation_Priv-house-serv\", \"occupation_Prof-specialty\",\n",
    "            \"occupation_Protective-serv\", \"occupation_Sales\", \"occupation_Tech-support\", \"occupation_Transport-moving\", \"gender_Female\",\n",
    "            \"race_Amer-Indian-Eskimo\", \"race_Asian-Pac-Islander\", \"race_Black\", \"race_Other\", \"race_White\", \"gender_Male\",\"native-country_United-States\"]\n"
   ]
  },
  {
   "cell_type": "code",
   "execution_count": 500,
   "metadata": {},
   "outputs": [],
   "source": [
    "num_samples = 1  # number of random samples\n",
    "\n",
    "# Create random data\n",
    "random_data = {\n",
    "    \"age\": np.random.randint(18, 91, num_samples),\n",
    "    \"hours-per-week\": np.random.randint(0, 81, num_samples)\n",
    "}\n"
   ]
  },
  {
   "cell_type": "code",
   "execution_count": 501,
   "metadata": {},
   "outputs": [],
   "source": [
    "binary_features = features[2:]  # all features except age and hours-per-week\n",
    "for feature in binary_features:\n",
    "    random_data[feature] = np.random.choice([0, 1], num_samples)\n"
   ]
  },
  {
   "cell_type": "code",
   "execution_count": 502,
   "metadata": {},
   "outputs": [],
   "source": [
    "X_test = pd.DataFrame(random_data, columns=features)\n",
    "X_test.head()\n"
   ]
  },
  {
   "cell_type": "code",
   "execution_count": 503,
   "metadata": {},
   "outputs": [],
   "source": [
    "y_pred = model.predict(X_test)\n",
    "predictions_df = pd.DataFrame(y_pred, columns=['Predicted Class'])\n"
   ]
  },
  {
   "cell_type": "code",
   "execution_count": 504,
   "metadata": {},
   "outputs": [
    {
     "data": {
      "image/png": "[encoded data removed]",
      "text/plain": [
       "<Figure size 800x600 with 1 Axes>"
      ]
     },
     "metadata": {},
     "output_type": "display_data"
    }
   ],
   "source": [
    "plt.figure(figsize=(8, 6))\n",
    "sns.countplot(data=predictions_df, x='Predicted Class')\n",
    "plt.title('Distribution of Predicted Classes')\n",
    "plt.xlabel('Class')\n",
    "plt.ylabel('Count')\n",
    "plt.show()"
   ]
  }
 ],
 "metadata": {
  "kernelspec": {
   "display_name": "ds",
   "language": "python",
   "name": "python3"
  },
  "language_info": {
   "codemirror_mode": {
    "name": "ipython",
    "version": 3
   },
   "file_extension": ".py",
   "mimetype": "text/x-python",
   "name": "python",
   "nbconvert_exporter": "python",
   "pygments_lexer": "ipython3",
   "version": "3.12.0"
  }
 },
 "nbformat": 4,
 "nbformat_minor": 2
}
